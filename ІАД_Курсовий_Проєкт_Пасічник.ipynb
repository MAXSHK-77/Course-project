{
 "cells": [
  {
   "cell_type": "markdown",
   "id": "b8104a57",
   "metadata": {},
   "source": [
    "Тема 33: Інтелектуальна інформаційна система для класифікування токсичних коментарів\n",
    "Набір даних: Toxic Comment Classification Challenge (https://www.kaggle.com/competitions/jigsaw-toxic-comment-classification-challenge/data) - Потрібен акаунт Kaggle для доступу до train.csv, test.csv, test_labels.csv, sample_submission.csv.\n",
    "\n",
    "Мета: Класифікувати онлайн-коментарі за кількома категоріями токсичності (toxic, severe_toxic, obscene, threat, insult, identity_hate). Оскільки один коментар може належати до кількох категорій одночасно, це завдання є багатозначною класифікацією тексту (Multi-label Text Classification)."
   ]
  },
  {
   "cell_type": "markdown",
   "id": "ee6f58de",
   "metadata": {},
   "source": [
    "Завдання 1. Завантаження та Попереднє Оброблення Текстових Даних:\n",
    "1.1. Завантаження даних: Завантажте train.csv, test.csv, test_labels.csv. Файл test_labels.csv містить мітки для тестового набору (деякі мають значення -1, що означає, що вони не використовувалися для оцінки у змаганні, але можуть бути корисні для аналізу).\n"
   ]
  },
  {
   "cell_type": "code",
   "execution_count": 1,
   "id": "6f434542",
   "metadata": {},
   "outputs": [
    {
     "name": "stdout",
     "output_type": "stream",
     "text": [
      "Train shape: (159571, 8)\n",
      "Test shape: (153164, 2)\n",
      "Test labels shape: (153164, 7)\n",
      "\n",
      "Перші 3 записи train.csv:\n",
      "                 id                                       comment_text  toxic  \\\n",
      "0  0000997932d777bf  Explanation\\nWhy the edits made under my usern...      0   \n",
      "1  000103f0d9cfb60f  D'aww! He matches this background colour I'm s...      0   \n",
      "2  000113f07ec002fd  Hey man, I'm really not trying to edit war. It...      0   \n",
      "\n",
      "   severe_toxic  obscene  threat  insult  identity_hate  \n",
      "0             0        0       0       0              0  \n",
      "1             0        0       0       0              0  \n",
      "2             0        0       0       0              0  \n",
      "\n",
      "Кількість прикладів у кожній категорії:\n",
      "toxic            15294\n",
      "severe_toxic      1595\n",
      "obscene           8449\n",
      "threat             478\n",
      "insult            7877\n",
      "identity_hate     1405\n",
      "dtype: int64\n"
     ]
    },
    {
     "data": {
      "image/png": "[encoded data removed]",
      "text/plain": [
       "<Figure size 640x480 with 1 Axes>"
      ]
     },
     "metadata": {},
     "output_type": "display_data"
    },
    {
     "name": "stdout",
     "output_type": "stream",
     "text": [
      "\n",
      "Приклад очищеного тексту:\n",
      "                                        comment_text  \\\n",
      "0  Explanation\\nWhy the edits made under my usern...   \n",
      "1  D'aww! He matches this background colour I'm s...   \n",
      "\n",
      "                                       clean_comment  \n",
      "0  explanation why the edits made under my userna...  \n",
      "1  d'aww he matches this background colour i'm se...  \n"
     ]
    }
   ],
   "source": [
    "import pandas as pd\n",
    "import re\n",
    "import matplotlib.pyplot as plt\n",
    "import seaborn as sns\n",
    "\n",
    "train_df = pd.read_csv('train.csv')\n",
    "test_df = pd.read_csv('test.csv')\n",
    "test_labels_df = pd.read_csv('test_labels.csv')\n",
    "sample_submission_df = pd.read_csv('sample_submission.csv')\n",
    "\n",
    "# Перевірка розмірностей\n",
    "print(\"Train shape:\", train_df.shape)\n",
    "print(\"Test shape:\", test_df.shape)\n",
    "print(\"Test labels shape:\", test_labels_df.shape)\n",
    "\n",
    "# Перевірка вмісту даних\n",
    "print(\"\\nПерші 3 записи train.csv:\")\n",
    "print(train_df.head(3))\n",
    "\n",
    "# Категорії токсичності та їх розподіл\n",
    "categories = ['toxic', 'severe_toxic', 'obscene', 'threat', 'insult', 'identity_hate']\n",
    "\n",
    "print(\"\\nКількість прикладів у кожній категорії:\")\n",
    "print(train_df[categories].sum())\n",
    "\n",
    "# Візуалізація розподілу\n",
    "train_df[categories].sum().sort_values(ascending=False).plot(kind='bar', title='Розподіл міток токсичності')\n",
    "plt.ylabel('Кількість')\n",
    "plt.show()\n",
    "\n",
    "# Очищення тексту\n",
    "def clean_text(text):\n",
    "    text = text.lower()\n",
    "    text = re.sub(r\"<.*?>\", \"\", text)  # видалення HTML-тегів\n",
    "    text = re.sub(r\"[^a-zA-Z']\", \" \", text)  # тільки англійські літери\n",
    "    text = re.sub(r\"\\s+\", \" \", text).strip()  # зайві пробіли\n",
    "    return text\n",
    "\n",
    "train_df['clean_comment'] = train_df['comment_text'].apply(clean_text)\n",
    "test_df['clean_comment'] = test_df['comment_text'].apply(clean_text)\n",
    "\n",
    "#  Результат очищення\n",
    "print(\"\\nПриклад очищеного тексту:\")\n",
    "print(train_df[['comment_text', 'clean_comment']].head(2))"
   ]
  },
  {
   "cell_type": "markdown",
   "id": "923f3aa4",
   "metadata": {},
   "source": [
    "1.2. Аналіз даних:\n",
    "Огляньте структуру train.csv (id, comment_text, та 6 бінарних стовпців-міток).\n",
    "Проаналізуйте розподіл кожної мітки токсичності (скільки коментарів належать до кожного класу). Зверніть увагу на дисбаланс.\n",
    "Дослідіть кореляції між мітками токсичності (наприклад, 'toxic' та 'severe_toxic' часто зустрічаються разом)."
   ]
  },
  {
   "cell_type": "code",
   "execution_count": 2,
   "id": "43d91f18",
   "metadata": {},
   "outputs": [
    {
     "name": "stdout",
     "output_type": "stream",
     "text": [
      "Стовпці в train.csv: ['id', 'comment_text', 'toxic', 'severe_toxic', 'obscene', 'threat', 'insult', 'identity_hate', 'clean_comment']\n",
      "\n",
      "Приклад запису:\n",
      "                                                               0\n",
      "id                                              0000997932d777bf\n",
      "comment_text   Explanation\\nWhy the edits made under my usern...\n",
      "toxic                                                          0\n",
      "severe_toxic                                                   0\n",
      "obscene                                                        0\n",
      "threat                                                         0\n",
      "insult                                                         0\n",
      "identity_hate                                                  0\n",
      "clean_comment  explanation why the edits made under my userna...\n",
      "\n",
      "Кількість коментарів у кожній категорії токсичності:\n",
      "toxic            15294\n",
      "obscene           8449\n",
      "insult            7877\n",
      "severe_toxic      1595\n",
      "identity_hate     1405\n",
      "threat             478\n",
      "dtype: int64\n"
     ]
    },
    {
     "data": {
      "image/png": "[encoded data removed]",
      "text/plain": [
       "<Figure size 800x500 with 1 Axes>"
      ]
     },
     "metadata": {},
     "output_type": "display_data"
    },
    {
     "name": "stdout",
     "output_type": "stream",
     "text": [
      "\n",
      "Розподіл за кількістю токсичних категорій в одному коментарі:\n",
      "labels_sum\n",
      "0    143346\n",
      "1      6360\n",
      "2      3480\n",
      "3      4209\n",
      "4      1760\n",
      "5       385\n",
      "6        31\n",
      "Name: count, dtype: int64\n"
     ]
    },
    {
     "data": {
      "image/png": "[encoded data removed]",
      "text/plain": [
       "<Figure size 600x400 with 1 Axes>"
      ]
     },
     "metadata": {},
     "output_type": "display_data"
    },
    {
     "name": "stdout",
     "output_type": "stream",
     "text": [
      "\n",
      "Кореляція між мітками токсичності:\n",
      "                  toxic  severe_toxic   obscene    threat    insult  \\\n",
      "toxic          1.000000      0.308619  0.676515  0.157058  0.647518   \n",
      "severe_toxic   0.308619      1.000000  0.403014  0.123601  0.375807   \n",
      "obscene        0.676515      0.403014  1.000000  0.141179  0.741272   \n",
      "threat         0.157058      0.123601  0.141179  1.000000  0.150022   \n",
      "insult         0.647518      0.375807  0.741272  0.150022  1.000000   \n",
      "identity_hate  0.266009      0.201600  0.286867  0.115128  0.337736   \n",
      "\n",
      "               identity_hate  \n",
      "toxic               0.266009  \n",
      "severe_toxic        0.201600  \n",
      "obscene             0.286867  \n",
      "threat              0.115128  \n",
      "insult              0.337736  \n",
      "identity_hate       1.000000  \n"
     ]
    },
    {
     "data": {
      "image/png": "[encoded data removed]",
      "text/plain": [
       "<Figure size 700x600 with 2 Axes>"
      ]
     },
     "metadata": {},
     "output_type": "display_data"
    }
   ],
   "source": [
    "\n",
    "\n",
    "# Перегляд структури даних\n",
    "print(\"Стовпці в train.csv:\", train_df.columns.tolist())\n",
    "print(\"\\nПриклад запису:\")\n",
    "print(train_df.head(1).T)\n",
    "\n",
    "# Список міток токсичності\n",
    "categories = ['toxic', 'severe_toxic', 'obscene', 'threat', 'insult', 'identity_hate']\n",
    "\n",
    "# Розподіл по класах\n",
    "label_counts = train_df[categories].sum().sort_values(ascending=False)\n",
    "print(\"\\nКількість коментарів у кожній категорії токсичності:\")\n",
    "print(label_counts)\n",
    "\n",
    "# Побудова гістограми\n",
    "plt.figure(figsize=(8, 5))\n",
    "label_counts.plot(kind='bar', title='Кількість міток токсичності')\n",
    "plt.ylabel(\"Кількість коментарів\")\n",
    "plt.xticks(rotation=45)\n",
    "plt.tight_layout()\n",
    "plt.show()\n",
    "\n",
    "# Перевірка мульти-мітковості (скільки міток одночасно)\n",
    "train_df['labels_sum'] = train_df[categories].sum(axis=1)\n",
    "multi_label_counts = train_df['labels_sum'].value_counts().sort_index()\n",
    "\n",
    "print(\"\\nРозподіл за кількістю токсичних категорій в одному коментарі:\")\n",
    "print(multi_label_counts)\n",
    "\n",
    "plt.figure(figsize=(6,4))\n",
    "multi_label_counts.plot(kind='bar', title='Кількість міток у коментарі')\n",
    "plt.xlabel(\"Кількість міток у коментарі\")\n",
    "plt.ylabel(\"Кількість прикладів\")\n",
    "plt.xticks(rotation=0)\n",
    "plt.tight_layout()\n",
    "plt.show()\n",
    "\n",
    "# Кореляція між мітками\n",
    "correlation_matrix = train_df[categories].corr()\n",
    "\n",
    "print(\"\\nКореляція між мітками токсичності:\")\n",
    "print(correlation_matrix)\n",
    "\n",
    "# Візуалізація кореляційної матриці\n",
    "plt.figure(figsize=(7, 6))\n",
    "sns.heatmap(correlation_matrix, annot=True, cmap=\"coolwarm\", fmt=\".2f\")\n",
    "plt.title(\"Кореляції між мітками токсичності\")\n",
    "plt.tight_layout()\n",
    "plt.show()\n"
   ]
  },
  {
   "cell_type": "markdown",
   "id": "c7d97ecb",
   "metadata": {},
   "source": [
    "1.3. Попереднє Оброблення тексту ('comment_text'): Створіть функцію очищення тексту:\n",
    "Приведення до нижнього регістру.\n",
    "Видалення IP-адрес, URL-адрес, імен користувачів (якщо є).\n",
    "Видалення спеціальних символів, пунктуації, можливо, чисел.\n",
    "Токенізація.\n",
    "Видалення стоп-слів.\n",
    "Стемінг/Лематизація (опціонально, може допомогти).\n",
    "Застосуйте функцію до train.csv та test.csv."
   ]
  },
  {
   "cell_type": "code",
   "execution_count": 3,
   "id": "db1ba2b2",
   "metadata": {},
   "outputs": [
    {
     "name": "stderr",
     "output_type": "stream",
     "text": [
      "[nltk_data] Downloading package punkt to\n",
      "[nltk_data]     D:/ІАД_Курсовий_Проєкт/nltk_data...\n",
      "[nltk_data]   Package punkt is already up-to-date!\n",
      "[nltk_data] Downloading package stopwords to\n",
      "[nltk_data]     D:/ІАД_Курсовий_Проєкт/nltk_data...\n",
      "[nltk_data]   Package stopwords is already up-to-date!\n",
      "[nltk_data] Downloading package wordnet to\n",
      "[nltk_data]     D:/ІАД_Курсовий_Проєкт/nltk_data...\n",
      "[nltk_data]   Package wordnet is already up-to-date!\n",
      "[nltk_data] Downloading package punkt_tab to\n",
      "[nltk_data]     D:/ІАД_Курсовий_Проєкт/nltk_data...\n",
      "[nltk_data]   Package punkt_tab is already up-to-date!\n"
     ]
    },
    {
     "data": {
      "text/plain": [
       "True"
      ]
     },
     "execution_count": 3,
     "metadata": {},
     "output_type": "execute_result"
    }
   ],
   "source": [
    "import nltk\n",
    "nltk.data.path.clear()\n",
    "\n",
    "nltk.data.path.append('D:/ІАД_Курсовий_Проєкт/nltk_data')\n",
    "nltk.download('punkt', download_dir='D:/ІАД_Курсовий_Проєкт/nltk_data')\n",
    "nltk.download('stopwords', download_dir='D:/ІАД_Курсовий_Проєкт/nltk_data')\n",
    "nltk.download('wordnet', download_dir='D:/ІАД_Курсовий_Проєкт/nltk_data')\n",
    "nltk.download('punkt_tab', download_dir='D:/ІАД_Курсовий_Проєкт/nltk_data')\n"
   ]
  },
  {
   "cell_type": "code",
   "execution_count": 4,
   "id": "0a7a9e01",
   "metadata": {},
   "outputs": [
    {
     "name": "stdout",
     "output_type": "stream",
     "text": [
      "                                        comment_text  \\\n",
      "0  Explanation\\nWhy the edits made under my usern...   \n",
      "1  D'aww! He matches this background colour I'm s...   \n",
      "2  Hey man, I'm really not trying to edit war. It...   \n",
      "\n",
      "                                       clean_comment  \n",
      "0  explanation edits made username hardcore metal...  \n",
      "1  d'aww match background colour seemingly stuck ...  \n",
      "2  hey man really trying edit war guy constantly ...  \n"
     ]
    }
   ],
   "source": [
    "import re\n",
    "from nltk.corpus import stopwords\n",
    "from nltk.tokenize import word_tokenize\n",
    "from nltk.stem import WordNetLemmatizer\n",
    "\n",
    "# Список англійських стоп-слів\n",
    "stop_words = set(stopwords.words('english'))\n",
    "lemmatizer = WordNetLemmatizer()\n",
    "\n",
    "# Функція очищення коментаря\n",
    "def preprocess_text(text):\n",
    "    text = text.lower()  # до нижнього регістру\n",
    "\n",
    "    # Видалення IP-адрес, URL-адрес, імен користувачів\n",
    "    text = re.sub(r'\\d+\\.\\d+\\.\\d+\\.\\d+', ' ', text)  # IP\n",
    "    text = re.sub(r'http\\S+|www.\\S+', ' ', text)     # URL\n",
    "    text = re.sub(r'@\\w+', ' ', text)                # @user\n",
    "\n",
    "    # Видалення спеціальних символів, чисел, пунктуації\n",
    "    text = re.sub(r\"[^a-z\\s']\", ' ', text)\n",
    "\n",
    "    # Токенізація\n",
    "    tokens = word_tokenize(text)\n",
    "\n",
    "    # Видалення стоп-слів і коротких слів\n",
    "    tokens = [word for word in tokens if word not in stop_words and len(word) > 2]\n",
    "\n",
    "    # Лематизація (опціонально)\n",
    "    tokens = [lemmatizer.lemmatize(word) for word in tokens]\n",
    "\n",
    "    # З'єднання назад у рядок\n",
    "    return ' '.join(tokens)\n",
    "\n",
    "# Застосування до train і test\n",
    "train_df['clean_comment'] = train_df['comment_text'].apply(preprocess_text)\n",
    "test_df['clean_comment'] = test_df['comment_text'].apply(preprocess_text)\n",
    "\n",
    "#  Результат\n",
    "print(train_df[['comment_text', 'clean_comment']].head(3))\n"
   ]
  },
  {
   "cell_type": "markdown",
   "id": "4f271402",
   "metadata": {},
   "source": [
    "Завдання 2. Вилучення Ознак та Базова Багатозначна Модель:"
   ]
  },
  {
   "cell_type": "markdown",
   "id": "121f7cc3",
   "metadata": {},
   "source": [
    "2.1. Розділення даних: Розділіть train.csv на тренувальну та валідаційну вибірки."
   ]
  },
  {
   "cell_type": "code",
   "execution_count": 5,
   "id": "23cc51dc",
   "metadata": {},
   "outputs": [
    {
     "name": "stdout",
     "output_type": "stream",
     "text": [
      "Розмір тренувальної вибірки: 127656\n",
      "Розмір валідаційної вибірки: 31915\n"
     ]
    }
   ],
   "source": [
    "from sklearn.model_selection import train_test_split \n",
    "\n",
    "# Розділяється вибірка на тренувальну та валідаційну (80% - тренувальна, 20% - валідаційна)\n",
    "train_data, val_data = train_test_split(train_df, test_size=0.2, random_state=42)\n",
    "print(f\"Розмір тренувальної вибірки: {len(train_data)}\")\n",
    "print(f\"Розмір валідаційної вибірки: {len(val_data)}\")"
   ]
  },
  {
   "cell_type": "markdown",
   "id": "fa9c2d22",
   "metadata": {},
   "source": [
    "2.2. Векторизація Тексту: Використовуйте TfidfVectorizer для перетворення очищених коментарів на числові вектори. Розгляньте використання символьних n-грам (analyzer='char_wb', ngram_range=(2, 5)) на додаток до слівних, оскільки вони можуть бути стійкими до одруків та варіацій написання образливих слів.\n"
   ]
  },
  {
   "cell_type": "code",
   "execution_count": 6,
   "id": "33cda93e",
   "metadata": {},
   "outputs": [
    {
     "name": "stderr",
     "output_type": "stream",
     "text": [
      "c:\\Users\\MAX\\anaconda3\\envs\\my-course\\lib\\site-packages\\sklearn\\feature_extraction\\text.py:543: UserWarning: The parameter 'stop_words' will not be used since 'analyzer' != 'word'\n",
      "  warnings.warn(\n"
     ]
    },
    {
     "name": "stdout",
     "output_type": "stream",
     "text": [
      "Розмір матриці для тренувальних даних: (127656, 356488)\n",
      "Розмір матриці для валідаційних даних: (31915, 356488)\n"
     ]
    }
   ],
   "source": [
    "from sklearn.feature_extraction.text import TfidfVectorizer\n",
    "\n",
    "# Використовується TfidfVectorizer для перетворення коментарів на числові вектори\n",
    "tfidf_vectorizer = TfidfVectorizer(\n",
    "    analyzer='char_wb',  # Використовуються символьні n-грамми\n",
    "    ngram_range=(2, 5),  # Розмір n-грам від 2 до 5\n",
    "    stop_words='english'  # Видаляються англійські стоп-слова\n",
    ")\n",
    "\n",
    "# Тренувальна вибірка: векторизація коментарів\n",
    "X_train_tfidf = tfidf_vectorizer.fit_transform(train_data['clean_comment'])\n",
    "\n",
    "# Валідаційна вибірка: перетворення за допомогою тієї ж векторизації\n",
    "X_val_tfidf = tfidf_vectorizer.transform(val_data['clean_comment'])\n",
    "\n",
    "# Результат виконання завдання\n",
    "print(f\"Розмір матриці для тренувальних даних: {X_train_tfidf.shape}\")\n",
    "print(f\"Розмір матриці для валідаційних даних: {X_val_tfidf.shape}\")"
   ]
  },
  {
   "cell_type": "markdown",
   "id": "8a8e3e54",
   "metadata": {},
   "source": [
    "2.3. Багатозначна Класифікація (Multi-label): Існує кілька підходів:\n",
    "One-vs-Rest (OvR) / Binary Relevance: Навчіть окремий бінарний класифікатор для кожної з 6 міток токсичності. Можна використовувати Logistic Regression, LinearSVC або MultinomialNB. Це найпростіший підхід. (sklearn.multiclass.OneVsRestClassifier).\n",
    "Classifier Chains: Послідовно навчає класифікатори, де прогноз попереднього класифікатора використовується як ознака для наступного (може враховувати кореляції міток).\n",
    "Адаптовані Алгоритми: Деякі алгоритми можуть напряму працювати з багатозначними виходами (рідше в scikit-learn).\n",
    "Використання scikit-multilearn: Ця бібліотека надає зручні реалізації різних багатозначних стратегій (Binary Relevance, Classifier Chains, Label Powerset тощо)."
   ]
  },
  {
   "cell_type": "markdown",
   "id": "cc96a2f4",
   "metadata": {},
   "source": [
    "У данному завданні вибрано One-vs-Rest (OvR) / Binary Relevance: Навчіть окремий бінарний класифікатор для кожної з 6 міток токсичності. Можна використовувати Logistic Regression, LinearSVC або MultinomialNB. Це найпростіший підхід. (sklearn.multiclass.OneVsRestClassifier)."
   ]
  },
  {
   "cell_type": "code",
   "execution_count": 7,
   "id": "f39d074d",
   "metadata": {},
   "outputs": [
    {
     "name": "stdout",
     "output_type": "stream",
     "text": [
      "Accuracy: 0.9081\n",
      "F1 Score (micro): 0.9517\n"
     ]
    }
   ],
   "source": [
    "from sklearn.model_selection import train_test_split\n",
    "from sklearn.feature_extraction.text import TfidfVectorizer\n",
    "from sklearn.linear_model import LogisticRegression\n",
    "from sklearn.multiclass import OneVsRestClassifier\n",
    "from sklearn.metrics import accuracy_score, f1_score\n",
    "from sklearn.preprocessing import MultiLabelBinarizer\n",
    "import pandas as pd\n",
    "\n",
    "# Підготовка даних\n",
    "train_df['clean_comment'] = train_df['comment_text'].apply(preprocess_text)\n",
    "\n",
    "# Вибір тільки міток токсичності\n",
    "X = train_df['clean_comment']\n",
    "y = train_df.drop(columns=['id', 'comment_text', 'clean_comment'])\n",
    "\n",
    "# Перетворення багатозначних міток у бінарний формат\n",
    "mlb = MultiLabelBinarizer()\n",
    "y = mlb.fit_transform(y.values)\n",
    "\n",
    "# Розділення на тренувальну та валідаційну вибірки\n",
    "X_train, X_val, y_train, y_val = train_test_split(X, y, test_size=0.2, random_state=42)\n",
    "\n",
    "# Векторизація\n",
    "vectorizer = TfidfVectorizer(analyzer='char_wb', ngram_range=(2, 5), max_features=10000)\n",
    "X_train_tfidf = vectorizer.fit_transform(X_train)\n",
    "X_val_tfidf = vectorizer.transform(X_val)\n",
    "\n",
    "# Ініціалізація та навчання моделі\n",
    "logreg = LogisticRegression(max_iter=1000, random_state=42)\n",
    "model = OneVsRestClassifier(logreg)\n",
    "model.fit(X_train_tfidf, y_train)\n",
    "\n",
    "# Прогнозування та оцінка\n",
    "y_pred = model.predict(X_val_tfidf)\n",
    "accuracy = accuracy_score(y_val, y_pred)\n",
    "f1 = f1_score(y_val, y_pred, average='micro')\n",
    "\n",
    "print(f\"Accuracy: {accuracy:.4f}\")\n",
    "print(f\"F1 Score (micro): {f1:.4f}\")\n"
   ]
  },
  {
   "cell_type": "markdown",
   "id": "c849345c",
   "metadata": {},
   "source": [
    "2.4. Оцінка Багатозначної Класифікації: Використовуйте метрики, призначені для багатозначних завдань:\n",
    "Hamming Loss: Частка неправильно спрогнозованих міток.\n",
    "Accuracy Score (Subset Accuracy): Частка зразків, де всі мітки спрогнозовані правильно (дуже сувора метрика).\n",
    "Precision, Recall, \n",
    "-score (Micro, Macro, Weighted, Samples): Усереднені метрики по всіх мітках або для кожного зразка. Micro-F1 часто є хорошою загальною метрикою.\n",
    "AUC-ROC (per label / micro / macro): Площа під ROC-кривою, обчислена для кожної мітки окремо або усереднена.\n",
    "Основною метрикою змагання часто була середня AUC-ROC по всіх стовпцях."
   ]
  },
  {
   "cell_type": "code",
   "execution_count": 8,
   "id": "5621071a",
   "metadata": {},
   "outputs": [
    {
     "name": "stderr",
     "output_type": "stream",
     "text": [
      "c:\\Users\\MAX\\anaconda3\\envs\\my-course\\lib\\site-packages\\sklearn\\metrics\\_classification.py:1531: UndefinedMetricWarning: Precision is ill-defined and being set to 0.0 in labels with no predicted samples. Use `zero_division` parameter to control this behavior.\n",
      "  _warn_prf(average, modifier, f\"{metric.capitalize()} is\", len(result))\n"
     ]
    },
    {
     "name": "stdout",
     "output_type": "stream",
     "text": [
      "Hamming Loss: 0.0155\n",
      "Subset Accuracy: 0.9081\n",
      "Micro Precision: 0.9857, Micro Recall: 0.9200, Micro F1: 0.9517\n",
      "Macro Precision: 0.5440, Macro Recall: 0.2992, Macro F1: 0.3494\n",
      "AUC-ROC Micro: 0.9962\n",
      "AUC-ROC Macro: 0.9371\n",
      "AUC-ROC per label: [0.88346807 0.9645069  0.90463966 0.96251143 0.9788557  0.98237577\n",
      " 0.88346807]\n"
     ]
    }
   ],
   "source": [
    "from sklearn.metrics import (\n",
    "    hamming_loss, accuracy_score, precision_score,\n",
    "    recall_score, f1_score, roc_auc_score\n",
    ")\n",
    "\n",
    "# Hamming Loss\n",
    "hamming = hamming_loss(y_val, y_pred)\n",
    "\n",
    "# Subset Accuracy (усі мітки мають бути правильними)\n",
    "subset_acc = accuracy_score(y_val, y_pred)\n",
    "\n",
    "# Precision, Recall, F1\n",
    "precision_micro = precision_score(y_val, y_pred, average='micro')\n",
    "recall_micro = recall_score(y_val, y_pred, average='micro')\n",
    "f1_micro = f1_score(y_val, y_pred, average='micro')\n",
    "\n",
    "precision_macro = precision_score(y_val, y_pred, average='macro')\n",
    "recall_macro = recall_score(y_val, y_pred, average='macro')\n",
    "f1_macro = f1_score(y_val, y_pred, average='macro')\n",
    "\n",
    "# AUC-ROC (Використовуються потрібні ймовірності, а не класи)\n",
    "y_pred_proba = model.predict_proba(X_val_tfidf)\n",
    "# AUC-ROC по кожній мітці та в середньому\n",
    "auc_roc_micro = roc_auc_score(y_val, y_pred_proba, average='micro')\n",
    "auc_roc_macro = roc_auc_score(y_val, y_pred_proba, average='macro')\n",
    "auc_roc_per_label = roc_auc_score(y_val, y_pred_proba, average=None)\n",
    "\n",
    "# Виведення метрик\n",
    "print(f\"Hamming Loss: {hamming:.4f}\")\n",
    "print(f\"Subset Accuracy: {subset_acc:.4f}\")\n",
    "print(f\"Micro Precision: {precision_micro:.4f}, Micro Recall: {recall_micro:.4f}, Micro F1: {f1_micro:.4f}\")\n",
    "print(f\"Macro Precision: {precision_macro:.4f}, Macro Recall: {recall_macro:.4f}, Macro F1: {f1_macro:.4f}\")\n",
    "print(f\"AUC-ROC Micro: {auc_roc_micro:.4f}\")\n",
    "print(f\"AUC-ROC Macro: {auc_roc_macro:.4f}\")\n",
    "print(f\"AUC-ROC per label: {auc_roc_per_label}\")\n"
   ]
  },
  {
   "cell_type": "markdown",
   "id": "f0f97597",
   "metadata": {},
   "source": [
    "Завдання 3. Розширене Моделювання (Ембединги/DL) та Розгортання:"
   ]
  },
  {
   "cell_type": "markdown",
   "id": "c6929728",
   "metadata": {},
   "source": [
    "3.1. Просунуті ML Моделі: Спробуйте використовувати більш потужні класифікатори (LightGBM, XGBoost) у рамках стратегії One-vs-Rest."
   ]
  },
  {
   "cell_type": "code",
   "execution_count": 9,
   "id": "c5f71f44",
   "metadata": {},
   "outputs": [
    {
     "name": "stdout",
     "output_type": "stream",
     "text": [
      "🔄 Навчання LightGBM (One-vs-Rest)...\n",
      "\n",
      "✅ LightGBM — Accuracy: 0.9048\n"
     ]
    }
   ],
   "source": [
    "\n",
    "\n",
    "from lightgbm import LGBMClassifier\n",
    "from sklearn.multiclass import OneVsRestClassifier\n",
    "from sklearn.metrics import accuracy_score\n",
    "lgb_model = OneVsRestClassifier(\n",
    "    LGBMClassifier(\n",
    "        objective='binary',\n",
    "        n_estimators=30,\n",
    "        max_depth=4,\n",
    "        learning_rate=0.1,\n",
    "        subsample=0.8,\n",
    "        colsample_bytree=0.8,\n",
    "        n_jobs=-1,\n",
    "        verbosity=-1\n",
    "    )\n",
    ")\n",
    "\n",
    "# Навчання\n",
    "print(\"🔄 Навчання LightGBM (One-vs-Rest)...\")\n",
    "lgb_model.fit(X_train_tfidf, y_train)\n",
    "\n",
    "# Прогнозування\n",
    "y_pred = lgb_model.predict(X_val_tfidf)\n",
    "\n",
    "# Точність\n",
    "accuracy = accuracy_score(y_val, y_pred)\n",
    "print(f\"\\n✅ LightGBM — Accuracy: {accuracy:.4f}\")\n"
   ]
  },
  {
   "cell_type": "markdown",
   "id": "c92a404f",
   "metadata": {},
   "source": [
    "3.2. Використання Ембедингів (Опціонально): Дослідіть використання натренованих ембедингів слів/документів (Word2Vec, GloVe, FastText, Sentence Transformers)."
   ]
  },
  {
   "cell_type": "markdown",
   "id": "770d714d",
   "metadata": {},
   "source": [
    "Найзручніший варіант — Використання Word2Vec, так як цей метод дозволяє зменшити розмірність даних і забезпечити більш точні результати в даній задачі."
   ]
  },
  {
   "cell_type": "code",
   "execution_count": 10,
   "id": "0932e985",
   "metadata": {},
   "outputs": [
    {
     "name": "stdout",
     "output_type": "stream",
     "text": [
      "Accuracy: 0.8969\n",
      "F1 Score (micro): 0.9431\n"
     ]
    }
   ],
   "source": [
    "\n",
    "import numpy as np\n",
    "from nltk.tokenize import word_tokenize\n",
    "from gensim.models import Word2Vec\n",
    "from sklearn.multioutput import MultiOutputClassifier\n",
    "from sklearn.preprocessing import MultiLabelBinarizer\n",
    "\n",
    "# 1. Токенізація коментарів\n",
    "tokenized_comments = train_df['clean_comment'].apply(lambda x: word_tokenize(x.lower()))\n",
    "\n",
    "# 2. Тренування моделі Word2Vec\n",
    "model_w2v = Word2Vec(sentences=tokenized_comments, vector_size=100, window=5, min_count=1, workers=4)\n",
    "\n",
    "# 3. Функція для отримання середнього вектора для коментаря\n",
    "def get_word2vec_vector(comment, model):\n",
    "    words = word_tokenize(comment.lower())\n",
    "    word_vectors = []\n",
    "    for word in words:\n",
    "        if word in model.wv:\n",
    "            word_vectors.append(model.wv[word])\n",
    "    if len(word_vectors) == 0:\n",
    "        return np.zeros(model.vector_size)\n",
    "    return np.mean(word_vectors, axis=0)\n",
    "\n",
    "# 4. Підготовка міток (конвертація у бінарний формат)\n",
    "y = train_df.drop(columns=['id', 'comment_text', 'clean_comment'])\n",
    "mlb = MultiLabelBinarizer()\n",
    "y = mlb.fit_transform(y.values)\n",
    "\n",
    "# 5. Розділення на тренувальну та валідаційну вибірки\n",
    "X = train_df['clean_comment']\n",
    "X_train, X_val, y_train, y_val = train_test_split(X, y, test_size=0.2, random_state=42)\n",
    "\n",
    "# 6. Перетворення тексту в середнє значення векторів\n",
    "X_train_w2v = np.array([get_word2vec_vector(comment, model_w2v) for comment in X_train])\n",
    "X_val_w2v = np.array([get_word2vec_vector(comment, model_w2v) for comment in X_val])\n",
    "\n",
    "# 7. Навчання моделі\n",
    "logreg = LogisticRegression(max_iter=1000, random_state=42)\n",
    "model_w2v_class = MultiOutputClassifier(logreg)\n",
    "model_w2v_class.fit(X_train_w2v, y_train)\n",
    "\n",
    "# 8. Прогнозування та оцінка\n",
    "y_pred_w2v = model_w2v_class.predict(X_val_w2v)\n",
    "\n",
    "# Оцінка точності та F1-score\n",
    "accuracy = accuracy_score(y_val, y_pred_w2v)\n",
    "f1 = f1_score(y_val, y_pred_w2v, average='micro')\n",
    "\n",
    "print(f\"Accuracy: {accuracy:.4f}\")\n",
    "print(f\"F1 Score (micro): {f1:.4f}\")\n"
   ]
  },
  {
   "cell_type": "markdown",
   "id": "2cd9ab94",
   "metadata": {},
   "source": [
    "3.3. Моделі Глибокого Навчання (DL): Це найбільш поширений та ефективний підхід для цього завдання.\n",
    "Побудуйте моделі на основі LSTM, GRU, 1D CNN або їх комбінацій.\n",
    "Використовуйте шар Embedding (можливо, ініціалізований натренованими векторами).\n",
    "Вихідний шар повинен мати 6 нейронів з сигмоїдною активацією (оскільки кожна мітка є незалежним бінарним прогнозом). Функція втрат - Binary Crossentropy.\n",
    "Розгляньте використання Transformer-моделей (наприклад, BERT), що зазвичай дає найкращі результати, але потребує значних обчислювальних ресурсів та досвіду."
   ]
  },
  {
   "cell_type": "code",
   "execution_count": 12,
   "id": "9ba37ff7",
   "metadata": {},
   "outputs": [
    {
     "name": "stderr",
     "output_type": "stream",
     "text": [
      "c:\\Users\\MAX\\anaconda3\\envs\\my-course\\lib\\site-packages\\keras\\src\\layers\\core\\embedding.py:90: UserWarning: Argument `input_length` is deprecated. Just remove it.\n",
      "  warnings.warn(\n"
     ]
    },
    {
     "name": "stdout",
     "output_type": "stream",
     "text": [
      "Epoch 1/5\n",
      "\u001b[1m1995/1995\u001b[0m \u001b[32m━━━━━━━━━━━━━━━━━━━━\u001b[0m\u001b[37m\u001b[0m \u001b[1m556s\u001b[0m 276ms/step - accuracy: 0.9854 - loss: 0.1057 - val_accuracy: 1.0000 - val_loss: 0.0388\n",
      "Epoch 2/5\n",
      "\u001b[1m1995/1995\u001b[0m \u001b[32m━━━━━━━━━━━━━━━━━━━━\u001b[0m\u001b[37m\u001b[0m \u001b[1m496s\u001b[0m 248ms/step - accuracy: 0.9924 - loss: 0.0389 - val_accuracy: 0.9907 - val_loss: 0.0385\n",
      "Epoch 3/5\n",
      "\u001b[1m1995/1995\u001b[0m \u001b[32m━━━━━━━━━━━━━━━━━━━━\u001b[0m\u001b[37m\u001b[0m \u001b[1m544s\u001b[0m 273ms/step - accuracy: 0.9817 - loss: 0.0351 - val_accuracy: 0.9796 - val_loss: 0.0377\n",
      "Epoch 4/5\n",
      "\u001b[1m1995/1995\u001b[0m \u001b[32m━━━━━━━━━━━━━━━━━━━━\u001b[0m\u001b[37m\u001b[0m \u001b[1m650s\u001b[0m 326ms/step - accuracy: 0.9784 - loss: 0.0326 - val_accuracy: 0.9805 - val_loss: 0.0396\n",
      "Epoch 5/5\n",
      "\u001b[1m1995/1995\u001b[0m \u001b[32m━━━━━━━━━━━━━━━━━━━━\u001b[0m\u001b[37m\u001b[0m \u001b[1m591s\u001b[0m 296ms/step - accuracy: 0.9792 - loss: 0.0302 - val_accuracy: 0.9839 - val_loss: 0.0410\n",
      "\u001b[1m998/998\u001b[0m \u001b[32m━━━━━━━━━━━━━━━━━━━━\u001b[0m\u001b[37m\u001b[0m \u001b[1m39s\u001b[0m 39ms/step - accuracy: 0.9836 - loss: 0.0406\n",
      "Validation Accuracy: 0.9839\n"
     ]
    }
   ],
   "source": [
    "from tensorflow.keras.models import Sequential\n",
    "import tensorflow as tf\n",
    "from tensorflow.keras.layers import Embedding, LSTM, GRU, Conv1D, GlobalMaxPooling1D, Dense, Dropout\n",
    "from tensorflow.keras.optimizers import Adam\n",
    "from tensorflow.keras.preprocessing.text import Tokenizer\n",
    "from tensorflow.keras.preprocessing.sequence import pad_sequences\n",
    "train_df['clean_comment'] = train_df['comment_text'].apply(preprocess_text)\n",
    "\n",
    "# Вибір тільки міток токсичності\n",
    "X = train_df['clean_comment']\n",
    "y = train_df.drop(columns=['id', 'comment_text', 'clean_comment'])\n",
    "\n",
    "# Перетворення багатозначних міток у бінарний формат\n",
    "mlb = MultiLabelBinarizer()\n",
    "y = mlb.fit_transform(y.values)\n",
    "\n",
    "# Розділення на тренувальну та валідаційну вибірки\n",
    "X_train, X_val, y_train, y_val = train_test_split(X, y, test_size=0.2, random_state=42)\n",
    "\n",
    "# Токенізація текстів\n",
    "tokenizer = Tokenizer(num_words=10000)\n",
    "tokenizer.fit_on_texts(X_train)\n",
    "X_train_seq = tokenizer.texts_to_sequences(X_train)\n",
    "X_val_seq = tokenizer.texts_to_sequences(X_val)\n",
    "\n",
    "# Паддінг (вирівнювання довжини послідовностей)\n",
    "max_len = 100  # максимальна довжина послідовностей\n",
    "X_train_pad = pad_sequences(X_train_seq, maxlen=max_len)\n",
    "X_val_pad = pad_sequences(X_val_seq, maxlen=max_len)\n",
    "\n",
    "# Ініціалізація моделі\n",
    "model = Sequential()\n",
    "\n",
    "# Додавання шару Embedding (можна ініціалізувати GloVe або Word2Vec)\n",
    "embedding_dim = 100  # розмірність ембеддінгу\n",
    "model.add(Embedding(input_dim=10000, output_dim=embedding_dim, input_length=max_len))\n",
    "\n",
    "# Додавання LSTM шару (можна замінити на GRU або 1D CNN)\n",
    "model.add(LSTM(128, return_sequences=True))\n",
    "model.add(GlobalMaxPooling1D())  # пулінг для зменшення розміру\n",
    "\n",
    "# Додавання густих шарів (fully connected)\n",
    "model.add(Dense(64, activation='relu'))\n",
    "model.add(Dropout(0.5))\n",
    "\n",
    "# Вихідний шар (6 нейронів для 6 міток токсичності)\n",
    "model.add(Dense(7, activation='sigmoid'))\n",
    "\n",
    "# Компиляція моделі\n",
    "model.compile(optimizer=Adam(learning_rate=0.001), loss='binary_crossentropy', metrics=['accuracy'])\n",
    "\n",
    "# Тренування моделі\n",
    "history = model.fit(X_train_pad, y_train, epochs=5, batch_size=64, validation_data=(X_val_pad, y_val))\n",
    "\n",
    "# Оцінка моделі\n",
    "loss, accuracy = model.evaluate(X_val_pad, y_val)\n",
    "print(f\"Validation Accuracy: {accuracy:.4f}\")"
   ]
  },
  {
   "cell_type": "markdown",
   "id": "983cde29",
   "metadata": {},
   "source": [
    "3.4. Порівняння Продуктивності: Порівняйте ML підходи на TF-IDF з DL підходами."
   ]
  },
  {
   "cell_type": "code",
   "execution_count": 14,
   "id": "dc2ebdfb",
   "metadata": {},
   "outputs": [
    {
     "name": "stdout",
     "output_type": "stream",
     "text": [
      "✅ LightGBM (TF-IDF) — F1 (micro): 0.9422\n",
      "\u001b[1m998/998\u001b[0m \u001b[32m━━━━━━━━━━━━━━━━━━━━\u001b[0m\u001b[37m\u001b[0m \u001b[1m41s\u001b[0m 40ms/step\n",
      "✅ LSTM (DL) — F1 (micro): 0.9533\n",
      "\n",
      "📋 LightGBM Classification Report:\n",
      "              precision    recall  f1-score   support\n",
      "\n",
      "           0       1.00      1.00      1.00     31914\n",
      "           1       0.97      0.40      0.56      3244\n",
      "           2       0.30      0.02      0.03       730\n",
      "           3       0.57      0.10      0.18       856\n",
      "           4       0.49      0.13      0.21       365\n",
      "           5       0.20      0.11      0.14        72\n",
      "           6       0.00      0.00      0.00         1\n",
      "\n",
      "   micro avg       0.99      0.90      0.94     37182\n",
      "   macro avg       0.50      0.25      0.30     37182\n",
      "weighted avg       0.97      0.90      0.91     37182\n",
      " samples avg       1.00      0.95      0.97     37182\n",
      "\n",
      "\n",
      "📋 LSTM Classification Report:\n",
      "              precision    recall  f1-score   support\n",
      "\n",
      "           0       1.00      1.00      1.00     31914\n",
      "           1       0.79      0.78      0.79      3244\n",
      "           2       0.00      0.00      0.00       730\n",
      "           3       0.55      0.17      0.26       856\n",
      "           4       0.41      0.02      0.04       365\n",
      "           5       0.00      0.00      0.00        72\n",
      "           6       0.00      0.00      0.00         1\n",
      "\n",
      "   micro avg       0.98      0.93      0.95     37182\n",
      "   macro avg       0.39      0.28      0.30     37182\n",
      "weighted avg       0.94      0.93      0.93     37182\n",
      " samples avg       0.99      0.97      0.97     37182\n",
      "\n"
     ]
    },
    {
     "name": "stderr",
     "output_type": "stream",
     "text": [
      "c:\\Users\\MAX\\anaconda3\\envs\\my-course\\lib\\site-packages\\sklearn\\metrics\\_classification.py:1531: UndefinedMetricWarning: Precision is ill-defined and being set to 0.0 in labels with no predicted samples. Use `zero_division` parameter to control this behavior.\n",
      "  _warn_prf(average, modifier, f\"{metric.capitalize()} is\", len(result))\n"
     ]
    }
   ],
   "source": [
    "from sklearn.metrics import f1_score, accuracy_score, classification_report\n",
    "\n",
    "# ML модель: LightGBM (передбачається, що y_pred вже є)\n",
    "f1_lgb = f1_score(y_val, y_pred, average='micro')\n",
    "print(f\"✅ LightGBM (TF-IDF) — F1 (micro): {f1_lgb:.4f}\")\n",
    "y_pred_dl = model.predict(X_val_pad)\n",
    "# DL модель: LSTM (вже натренована модель, y_pred_dl вже є)\n",
    "y_pred_dl_bin = (y_pred_dl > 0.5).astype(int)\n",
    "f1_dl = f1_score(y_val, y_pred_dl_bin, average='micro')\n",
    "print(f\"✅ LSTM (DL) — F1 (micro): {f1_dl:.4f}\")\n",
    "\n",
    "# Додатково — звіти\n",
    "print(\"\\n📋 LightGBM Classification Report:\")\n",
    "print(classification_report(y_val, y_pred))\n",
    "\n",
    "print(\"\\n📋 LSTM Classification Report:\")\n",
    "print(classification_report(y_val, y_pred_dl_bin))\n"
   ]
  },
  {
   "cell_type": "markdown",
   "id": "4aeb92bd",
   "metadata": {},
   "source": [
    "3.5. Підготовка до Подання (якщо потрібно): Зробіть прогнози ймовірностей для test.csv за допомогою найкращої моделі та збережіть у форматі submission.csv."
   ]
  },
  {
   "cell_type": "code",
   "execution_count": 15,
   "id": "8683fc5f",
   "metadata": {},
   "outputs": [
    {
     "name": "stdout",
     "output_type": "stream",
     "text": [
      "\u001b[1m4787/4787\u001b[0m \u001b[32m━━━━━━━━━━━━━━━━━━━━\u001b[0m\u001b[37m\u001b[0m \u001b[1m393s\u001b[0m 82ms/step\n",
      "✅ submission.csv створено!\n"
     ]
    }
   ],
   "source": [
    "# 1. Завантаження тестових даних\n",
    "test_df = pd.read_csv(\"test.csv\")\n",
    "\n",
    "# 2. Попередня обробка текстів\n",
    "test_df['clean_comment'] = test_df['comment_text'].apply(preprocess_text)\n",
    "\n",
    "# 3. Токенізація та паддінг\n",
    "test_seq = tokenizer.texts_to_sequences(test_df['clean_comment'])\n",
    "test_pad = pad_sequences(test_seq, maxlen=max_len)\n",
    "\n",
    "# 4. Прогнозування ймовірностей\n",
    "test_pred = model.predict(test_pad)\n",
    "\n",
    "# 5. Формування submission DataFrame\n",
    "submission = pd.DataFrame(test_pred, columns=mlb.classes_)\n",
    "submission.insert(0, 'id', test_df['id'])\n",
    "\n",
    "# 6. Збереження у CSV\n",
    "submission.to_csv(\"submission.csv\", index=False)\n",
    "\n",
    "print(\"✅ submission.csv створено!\")\n"
   ]
  },
  {
   "cell_type": "markdown",
   "id": "05d7f567",
   "metadata": {},
   "source": [
    "3.6. Збереження Моделі: Збережіть найкращу модель (ML або DL) та компоненти обробки тексту/векторизації."
   ]
  },
  {
   "cell_type": "code",
   "execution_count": null,
   "id": "e571fedc",
   "metadata": {},
   "outputs": [
    {
     "name": "stderr",
     "output_type": "stream",
     "text": [
      "WARNING:absl:You are saving your model as an HDF5 file via `model.save()` or `keras.saving.save_model(model)`. This file format is considered legacy. We recommend using instead the native Keras format, e.g. `model.save('my_model.keras')` or `keras.saving.save_model(model, 'my_model.keras')`. \n"
     ]
    },
    {
     "name": "stdout",
     "output_type": "stream",
     "text": [
      "✅ DL модель, токенізатор і binarizer збережено!\n"
     ]
    }
   ],
   "source": [
    "import pickle\n",
    "\n",
    "# Збереження DL-моделі\n",
    "model.save(\"best_dl_model.h5\")\n",
    "\n",
    "# Збереження токенізатора\n",
    "with open(\"tokenizer.pkl\", \"wb\") as f:\n",
    "    pickle.dump(tokenizer, f)\n",
    "\n",
    "# Збереження MultiLabelBinarizer\n",
    "with open(\"mlb.pkl\", \"wb\") as f:\n",
    "    pickle.dump(mlb, f)\n",
    "\n",
    "print(\"✅ DL модель, токенізатор і binarizer збережено!\")"
   ]
  }
 ],
 "metadata": {
  "kernelspec": {
   "display_name": "my-course",
   "language": "python",
   "name": "python3"
  },
  "language_info": {
   "codemirror_mode": {
    "name": "ipython",
    "version": 3
   },
   "file_extension": ".py",
   "mimetype": "text/x-python",
   "name": "python",
   "nbconvert_exporter": "python",
   "pygments_lexer": "ipython3",
   "version": "3.9.20"
  }
 },
 "nbformat": 4,
 "nbformat_minor": 5
}
